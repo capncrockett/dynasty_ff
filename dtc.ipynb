{
 "cells": [
  {
   "cell_type": "code",
   "execution_count": 2,
   "id": "3cd05717-83b8-480e-bfde-d17020ba0459",
   "metadata": {},
   "outputs": [
    {
     "name": "stdout",
     "output_type": "stream",
     "text": [
      "<class 'pandas.core.frame.DataFrame'>\n",
      "RangeIndex: 300 entries, 0 to 299\n",
      "Data columns (total 7 columns):\n",
      " #   Column      Non-Null Count  Dtype  \n",
      "---  ------      --------------  -----  \n",
      " 0   Rank        300 non-null    int64  \n",
      " 1   Name        300 non-null    object \n",
      " 2   Unnamed: 2  0 non-null      float64\n",
      " 3   Team        300 non-null    object \n",
      " 4   Pos         300 non-null    object \n",
      " 5   Age         300 non-null    object \n",
      " 6   Value       300 non-null    float64\n",
      "dtypes: float64(2), int64(1), object(4)\n",
      "memory usage: 16.5+ KB\n"
     ]
    }
   ],
   "source": [
    "import numpy as np\n",
    "import pandas as pd\n",
    "import matplotlib as plt\n",
    "\n",
    "players = pd.read_csv('src/dtc_10-30-2021.csv')\n",
    "\n",
    "players.info()"
   ]
  },
  {
   "cell_type": "markdown",
   "id": "20e06dc7-eaf7-4599-b2fb-4dd15d397acc",
   "metadata": {},
   "source": [
    "The `Unnamed: 2` column seems to just be NaN values. Let's drop that."
   ]
  },
  {
   "cell_type": "code",
   "execution_count": 11,
   "id": "58058588-42a9-4cf1-b91c-52ae49cd1607",
   "metadata": {},
   "outputs": [
    {
     "data": {
      "text/plain": [
       "count    0.0\n",
       "mean     NaN\n",
       "std      NaN\n",
       "min      NaN\n",
       "25%      NaN\n",
       "50%      NaN\n",
       "75%      NaN\n",
       "max      NaN\n",
       "Name: Unnamed: 2, dtype: float64"
      ]
     },
     "execution_count": 11,
     "metadata": {},
     "output_type": "execute_result"
    }
   ],
   "source": [
    "players['Unnamed: 2'].describe()"
   ]
  },
  {
   "cell_type": "code",
   "execution_count": 9,
   "id": "b91eb456-a47b-4030-be67-e7c494c01c7d",
   "metadata": {},
   "outputs": [
    {
     "data": {
      "text/html": [
       "<div>\n",
       "<style scoped>\n",
       "    .dataframe tbody tr th:only-of-type {\n",
       "        vertical-align: middle;\n",
       "    }\n",
       "\n",
       "    .dataframe tbody tr th {\n",
       "        vertical-align: top;\n",
       "    }\n",
       "\n",
       "    .dataframe thead th {\n",
       "        text-align: right;\n",
       "    }\n",
       "</style>\n",
       "<table border=\"1\" class=\"dataframe\">\n",
       "  <thead>\n",
       "    <tr style=\"text-align: right;\">\n",
       "      <th></th>\n",
       "      <th>Rank</th>\n",
       "      <th>Name</th>\n",
       "      <th>Unnamed: 2</th>\n",
       "      <th>Team</th>\n",
       "      <th>Pos</th>\n",
       "      <th>Age</th>\n",
       "      <th>Value</th>\n",
       "    </tr>\n",
       "  </thead>\n",
       "  <tbody>\n",
       "  </tbody>\n",
       "</table>\n",
       "</div>"
      ],
      "text/plain": [
       "Empty DataFrame\n",
       "Columns: [Rank, Name, Unnamed: 2, Team, Pos, Age, Value]\n",
       "Index: []"
      ]
     },
     "execution_count": 9,
     "metadata": {},
     "output_type": "execute_result"
    }
   ],
   "source": [
    "players[players['Unnamed: 2'].notnull()]"
   ]
  },
  {
   "cell_type": "code",
   "execution_count": 13,
   "id": "c5d713bd-5962-46d7-b9b7-5746d58d1aa7",
   "metadata": {},
   "outputs": [
    {
     "name": "stdout",
     "output_type": "stream",
     "text": [
      "<class 'pandas.core.frame.DataFrame'>\n",
      "RangeIndex: 300 entries, 0 to 299\n",
      "Data columns (total 6 columns):\n",
      " #   Column  Non-Null Count  Dtype  \n",
      "---  ------  --------------  -----  \n",
      " 0   Rank    300 non-null    int64  \n",
      " 1   Name    300 non-null    object \n",
      " 2   Team    300 non-null    object \n",
      " 3   Pos     300 non-null    object \n",
      " 4   Age     300 non-null    object \n",
      " 5   Value   300 non-null    float64\n",
      "dtypes: float64(1), int64(1), object(4)\n",
      "memory usage: 14.2+ KB\n"
     ]
    }
   ],
   "source": [
    "# df.drop(columns=['B', 'C'])\n",
    "players = players.drop(columns=['Unnamed: 2'])\n",
    "players.info()"
   ]
  },
  {
   "cell_type": "code",
   "execution_count": 15,
   "id": "4a0942d4-3912-4bca-9661-7e51a17b42c9",
   "metadata": {},
   "outputs": [
    {
     "data": {
      "text/html": [
       "<div>\n",
       "<style scoped>\n",
       "    .dataframe tbody tr th:only-of-type {\n",
       "        vertical-align: middle;\n",
       "    }\n",
       "\n",
       "    .dataframe tbody tr th {\n",
       "        vertical-align: top;\n",
       "    }\n",
       "\n",
       "    .dataframe thead th {\n",
       "        text-align: right;\n",
       "    }\n",
       "</style>\n",
       "<table border=\"1\" class=\"dataframe\">\n",
       "  <thead>\n",
       "    <tr style=\"text-align: right;\">\n",
       "      <th></th>\n",
       "      <th>Rank</th>\n",
       "      <th>Name</th>\n",
       "      <th>Team</th>\n",
       "      <th>Pos</th>\n",
       "      <th>Age</th>\n",
       "      <th>Value</th>\n",
       "    </tr>\n",
       "  </thead>\n",
       "  <tbody>\n",
       "    <tr>\n",
       "      <th>0</th>\n",
       "      <td>1</td>\n",
       "      <td>Justin Jefferson</td>\n",
       "      <td>MIN</td>\n",
       "      <td>WR</td>\n",
       "      <td>22Y</td>\n",
       "      <td>45.1</td>\n",
       "    </tr>\n",
       "    <tr>\n",
       "      <th>1</th>\n",
       "      <td>2</td>\n",
       "      <td>Ja'Marr Chase</td>\n",
       "      <td>CIN</td>\n",
       "      <td>WR</td>\n",
       "      <td>21Y</td>\n",
       "      <td>44.9</td>\n",
       "    </tr>\n",
       "    <tr>\n",
       "      <th>2</th>\n",
       "      <td>3</td>\n",
       "      <td>Jonathan Taylor</td>\n",
       "      <td>IND</td>\n",
       "      <td>RB</td>\n",
       "      <td>22Y</td>\n",
       "      <td>44.2</td>\n",
       "    </tr>\n",
       "    <tr>\n",
       "      <th>3</th>\n",
       "      <td>4</td>\n",
       "      <td>CeeDee Lamb</td>\n",
       "      <td>DAL</td>\n",
       "      <td>WR</td>\n",
       "      <td>22Y</td>\n",
       "      <td>43.6</td>\n",
       "    </tr>\n",
       "    <tr>\n",
       "      <th>4</th>\n",
       "      <td>5</td>\n",
       "      <td>DK Metcalf</td>\n",
       "      <td>SEA</td>\n",
       "      <td>WR</td>\n",
       "      <td>23Y</td>\n",
       "      <td>43.2</td>\n",
       "    </tr>\n",
       "    <tr>\n",
       "      <th>5</th>\n",
       "      <td>6</td>\n",
       "      <td>D'Andre Swift</td>\n",
       "      <td>DET</td>\n",
       "      <td>RB</td>\n",
       "      <td>22Y</td>\n",
       "      <td>42.8</td>\n",
       "    </tr>\n",
       "    <tr>\n",
       "      <th>6</th>\n",
       "      <td>7</td>\n",
       "      <td>Najee Harris</td>\n",
       "      <td>PIT</td>\n",
       "      <td>RB</td>\n",
       "      <td>23Y</td>\n",
       "      <td>42.4</td>\n",
       "    </tr>\n",
       "    <tr>\n",
       "      <th>7</th>\n",
       "      <td>8</td>\n",
       "      <td>Tyreek Hill</td>\n",
       "      <td>KC</td>\n",
       "      <td>WR</td>\n",
       "      <td>27Y</td>\n",
       "      <td>41.7</td>\n",
       "    </tr>\n",
       "    <tr>\n",
       "      <th>8</th>\n",
       "      <td>9</td>\n",
       "      <td>Christian McCaffrey</td>\n",
       "      <td>CAR</td>\n",
       "      <td>RB</td>\n",
       "      <td>25Y</td>\n",
       "      <td>41.0</td>\n",
       "    </tr>\n",
       "    <tr>\n",
       "      <th>9</th>\n",
       "      <td>10</td>\n",
       "      <td>Dalvin Cook</td>\n",
       "      <td>MIN</td>\n",
       "      <td>RB</td>\n",
       "      <td>26Y</td>\n",
       "      <td>40.6</td>\n",
       "    </tr>\n",
       "    <tr>\n",
       "      <th>10</th>\n",
       "      <td>11</td>\n",
       "      <td>Davante Adams</td>\n",
       "      <td>GB</td>\n",
       "      <td>WR</td>\n",
       "      <td>28Y</td>\n",
       "      <td>40.3</td>\n",
       "    </tr>\n",
       "    <tr>\n",
       "      <th>11</th>\n",
       "      <td>12</td>\n",
       "      <td>Nick Chubb</td>\n",
       "      <td>CLE</td>\n",
       "      <td>RB</td>\n",
       "      <td>25Y</td>\n",
       "      <td>39.9</td>\n",
       "    </tr>\n",
       "  </tbody>\n",
       "</table>\n",
       "</div>"
      ],
      "text/plain": [
       "    Rank                 Name Team Pos  Age  Value\n",
       "0      1     Justin Jefferson  MIN  WR  22Y   45.1\n",
       "1      2        Ja'Marr Chase  CIN  WR  21Y   44.9\n",
       "2      3      Jonathan Taylor  IND  RB  22Y   44.2\n",
       "3      4          CeeDee Lamb  DAL  WR  22Y   43.6\n",
       "4      5           DK Metcalf  SEA  WR  23Y   43.2\n",
       "5      6        D'Andre Swift  DET  RB  22Y   42.8\n",
       "6      7         Najee Harris  PIT  RB  23Y   42.4\n",
       "7      8          Tyreek Hill   KC  WR  27Y   41.7\n",
       "8      9  Christian McCaffrey  CAR  RB  25Y   41.0\n",
       "9     10          Dalvin Cook  MIN  RB  26Y   40.6\n",
       "10    11        Davante Adams   GB  WR  28Y   40.3\n",
       "11    12           Nick Chubb  CLE  RB  25Y   39.9"
      ]
     },
     "execution_count": 15,
     "metadata": {},
     "output_type": "execute_result"
    }
   ],
   "source": [
    "players.head(12)"
   ]
  }
 ],
 "metadata": {
  "kernelspec": {
   "display_name": "Python 3 (ipykernel)",
   "language": "python",
   "name": "python3"
  },
  "language_info": {
   "codemirror_mode": {
    "name": "ipython",
    "version": 3
   },
   "file_extension": ".py",
   "mimetype": "text/x-python",
   "name": "python",
   "nbconvert_exporter": "python",
   "pygments_lexer": "ipython3",
   "version": "3.9.7"
  }
 },
 "nbformat": 4,
 "nbformat_minor": 5
}
